{
  "nbformat": 4,
  "nbformat_minor": 0,
  "metadata": {
    "colab": {
      "provenance": [],
      "authorship_tag": "ABX9TyMcXRrye4koJKVANtLM0r/h",
      "include_colab_link": true
    },
    "kernelspec": {
      "name": "python3",
      "display_name": "Python 3"
    },
    "language_info": {
      "name": "python"
    }
  },
  "cells": [
    {
      "cell_type": "markdown",
      "metadata": {
        "id": "view-in-github",
        "colab_type": "text"
      },
      "source": [
        "<a href=\"https://colab.research.google.com/github/DevenderKThakur/DSAwithKunal/blob/main/Assignment01.ipynb\" target=\"_parent\"><img src=\"https://colab.research.google.com/assets/colab-badge.svg\" alt=\"Open In Colab\"/></a>"
      ]
    },
    {
      "cell_type": "code",
      "execution_count": 3,
      "metadata": {
        "colab": {
          "base_uri": "https://localhost:8080/"
        },
        "id": "-ZVDEjUUVPw5",
        "outputId": "6bcb8804-2170-4796-f2de-998815b54b60"
      },
      "outputs": [
        {
          "output_type": "stream",
          "name": "stdout",
          "text": [
            "12\n"
          ]
        }
      ],
      "source": [
        "# find the maximum element in the array\n",
        "mylist = [12,3,4,5,7]\n",
        "max = mylist[0]\n",
        "for i in range(1,len(mylist)):\n",
        "  if max < mylist[i]:\n",
        "    max = mylist[i]\n",
        "\n",
        "print(max)"
      ]
    },
    {
      "cell_type": "code",
      "source": [
        "# find the second largest element in the array\n",
        "mylist = [1,2,3,4,4,5]\n",
        "max = mylist[0]\n",
        "second_max = -1\n",
        "for i in range(len(mylist)):\n",
        "  if mylist[i] > max:\n",
        "        second_max = max\n",
        "        max = mylist[i]\n",
        "  elif  mylist[i] < max and mylist[i] < second_max :\n",
        "    second_max = arr[i]\n",
        "\n",
        "print(second_max)"
      ],
      "metadata": {
        "colab": {
          "base_uri": "https://localhost:8080/"
        },
        "id": "zYzgTgmfWMoe",
        "outputId": "40a0d3e3-35de-46fc-c4d6-ad283294261d"
      },
      "execution_count": 4,
      "outputs": [
        {
          "output_type": "stream",
          "name": "stdout",
          "text": [
            "4\n"
          ]
        }
      ]
    },
    {
      "cell_type": "code",
      "source": [
        "# find the missing element in the array\n",
        "# use of linear search to solve the problem\n",
        "def search(arr,n):\n",
        "  for i in range(1,n+1):\n",
        "    flag = 1\n",
        "    for j in range(len(arr)):\n",
        "      if arr[j] == i:\n",
        "        flag = 0\n",
        "        break\n",
        "    if flag == 1 :\n",
        "      return i\n",
        "\n",
        "arr = [1,2,3,5]\n",
        "n = 5\n",
        "missing_element = search(arr,n)\n",
        "print(missing_element)"
      ],
      "metadata": {
        "colab": {
          "base_uri": "https://localhost:8080/"
        },
        "id": "pW_h9FOweZ-5",
        "outputId": "20ff54da-75b5-45a6-dc83-9737cc8e8b34"
      },
      "execution_count": 7,
      "outputs": [
        {
          "output_type": "stream",
          "name": "stdout",
          "text": [
            "4\n"
          ]
        }
      ]
    }
  ]
}