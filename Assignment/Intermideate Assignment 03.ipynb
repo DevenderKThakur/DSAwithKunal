{
 "cells": [
  {
   "cell_type": "code",
   "execution_count": 11,
   "id": "abb87152",
   "metadata": {},
   "outputs": [
    {
     "name": "stdout",
     "output_type": "stream",
     "text": [
      "Enter the textabc\n",
      "abc\n",
      "cba\n"
     ]
    }
   ],
   "source": [
    "#Reverse A String \n",
    "def reverse(str):\n",
    "    str = str[::-1]\n",
    "    return str\n",
    "text = input(\"Enter the text : \")\n",
    "\n",
    "print(text)\n",
    "print(reverse(str))"
   ]
  },
  {
   "cell_type": "code",
   "execution_count": 16,
   "id": "f2824931",
   "metadata": {},
   "outputs": [
    {
     "name": "stdout",
     "output_type": "stream",
     "text": [
      "Enter the number 151\n",
      "Palindrome number\n"
     ]
    }
   ],
   "source": [
    "#Find if a number is palindrome or not\n",
    "n = int(input (\"Enter the number \"))\n",
    "temp = n \n",
    "rev = 0\n",
    "while temp > 0 :\n",
    "    rev = rev * 10 + temp%10\n",
    "    temp //= 10\n",
    "if rev == n :\n",
    "    print(\"Palindrome number\")\n",
    "else:\n",
    "    print(\"Not palindrome number \")"
   ]
  },
  {
   "cell_type": "code",
   "execution_count": 18,
   "id": "f2bddbcf",
   "metadata": {},
   "outputs": [
    {
     "name": "stdout",
     "output_type": "stream",
     "text": [
      "Enter the charactere\n",
      "vowels\n"
     ]
    }
   ],
   "source": [
    "# Program Vowel Or Consonant\n",
    "char = input (\"Enter the character\")\n",
    "if char == 'a' or char == 'e' or char == 'i' or char == 'o' or char == 'u' :\n",
    "    print(\"vowels\")\n",
    "else:\n",
    "    print(\"consonant\")"
   ]
  },
  {
   "cell_type": "code",
   "execution_count": 32,
   "id": "b90cddf7",
   "metadata": {},
   "outputs": [
    {
     "name": "stdout",
     "output_type": "stream",
     "text": [
      "enter the number 28\n",
      "yes\n"
     ]
    }
   ],
   "source": [
    "#Perfect Number\n",
    "n = int(input (\"enter the number \"))\n",
    "temp = n\n",
    "sum = 0\n",
    "for i in range(1,n):\n",
    "    if n%i == 0:\n",
    "        sum += i\n",
    "if sum == temp:\n",
    "    print(\"yes\")\n",
    "else:\n",
    "    print(\"no\")\n",
    "    "
   ]
  },
  {
   "cell_type": "code",
   "execution_count": 33,
   "id": "b6ff18df",
   "metadata": {},
   "outputs": [
    {
     "name": "stdout",
     "output_type": "stream",
     "text": [
      "6\n"
     ]
    }
   ],
   "source": [
    "# Kunal is allowed to go out with his friends only on the even days of a given month. Write a program to count the number of days he can go out in the month of August.\n",
    "count = 0\n",
    "for i in range(1,32):\n",
    "    if n%i == 0:\n",
    "        count +=1\n",
    "print(count)        "
   ]
  },
  {
   "cell_type": "code",
   "execution_count": 36,
   "id": "910d337b",
   "metadata": {},
   "outputs": [
    {
     "name": "stdout",
     "output_type": "stream",
     "text": [
      "Enter number12\n",
      "Enter the number5\n",
      "Enter the number8\n",
      "Enter the number-1\n",
      "Enter the number-4\n",
      "Enter the number0\n",
      "negative sum -5\n",
      "positive even sum 20\n",
      "positive odd sum 5\n"
     ]
    }
   ],
   "source": [
    "# Write a program to print the sum of negative numbers, sum of positive even numbers and the sum of positive odd numbers from a list of numbers (N) entered by the user. The list terminates when the user enters a zero.\n",
    "n = int(input (\"Enter number\"))\n",
    "neg_sum = 0\n",
    "pos_even_sum = 0\n",
    "pos_odd_sum = 0\n",
    "\n",
    "while n!= 0 :\n",
    "    if n < 0 :\n",
    "        neg_sum += n\n",
    "        n = int(input(\"Enter the number\"))\n",
    "    elif n > 0:\n",
    "        if n % 2 == 0 :\n",
    "            pos_even_sum += n \n",
    "            n = int(input(\"Enter the number\"))\n",
    "        else:\n",
    "            pos_odd_sum +=n\n",
    "            n = int(input(\"Enter the number\"))\n",
    "print(\"negative sum\",neg_sum)  \n",
    "print(\"positive even sum\",pos_even_sum) \n",
    "print(\"positive odd sum\",pos_odd_sum) "
   ]
  },
  {
   "cell_type": "code",
   "execution_count": null,
   "id": "fd9a1435",
   "metadata": {},
   "outputs": [],
   "source": []
  }
 ],
 "metadata": {
  "kernelspec": {
   "display_name": "Python 3 (ipykernel)",
   "language": "python",
   "name": "python3"
  },
  "language_info": {
   "codemirror_mode": {
    "name": "ipython",
    "version": 3
   },
   "file_extension": ".py",
   "mimetype": "text/x-python",
   "name": "python",
   "nbconvert_exporter": "python",
   "pygments_lexer": "ipython3",
   "version": "3.11.5"
  }
 },
 "nbformat": 4,
 "nbformat_minor": 5
}
