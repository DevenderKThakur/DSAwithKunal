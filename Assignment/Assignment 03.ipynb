{
 "cells": [
  {
   "cell_type": "code",
   "execution_count": 1,
   "id": "35b7bf01",
   "metadata": {},
   "outputs": [
    {
     "name": "stdout",
     "output_type": "stream",
     "text": [
      "Enter the radius5\n",
      "78.5\n"
     ]
    }
   ],
   "source": [
    "# Area Of Circle \n",
    "radius = int(input (\"Enter the radius\"))\n",
    "area = 3.14* radius**2\n",
    "print(area)"
   ]
  },
  {
   "cell_type": "code",
   "execution_count": 3,
   "id": "cc0c8893",
   "metadata": {},
   "outputs": [
    {
     "name": "stdout",
     "output_type": "stream",
     "text": [
      "Enter the height of the triangle12\n",
      "Enter the base of the triangle34\n",
      "204.0\n"
     ]
    }
   ],
   "source": [
    "# Area of a triangle \n",
    "height = int(input (\"Enter the height of the triangle\"))\n",
    "base = int(input (\"Enter the base of the triangle\"))\n",
    "area = ( base * height )* 0.5\n",
    "print(area)"
   ]
  },
  {
   "cell_type": "code",
   "execution_count": 5,
   "id": "9d324653",
   "metadata": {},
   "outputs": [
    {
     "name": "stdout",
     "output_type": "stream",
     "text": [
      "Enter the length12\n",
      "Enter the height34\n",
      "408\n"
     ]
    }
   ],
   "source": [
    "# Area of rectangle \n",
    "length = int (input (\"Enter the length\"))\n",
    "height = int(input (\"Enter the height\"))\n",
    "area = length * height\n",
    "print(area)"
   ]
  },
  {
   "cell_type": "code",
   "execution_count": 12,
   "id": "d9089e6e",
   "metadata": {},
   "outputs": [
    {
     "name": "stdout",
     "output_type": "stream",
     "text": [
      "34\n"
     ]
    }
   ],
   "source": [
    "# print the fibonacci series of n \n",
    "def fibo(n):\n",
    "    if n < 0:\n",
    "        print(\"Incorrect input\")\n",
    "    elif n == 0:\n",
    "        return 0\n",
    "    elif n == 1 or n == 2:\n",
    "        return 1 ;\n",
    "    else:\n",
    "        return fibo(n-1) + fibo(n-2)\n",
    "   \n",
    "print(fibo(9))"
   ]
  },
  {
   "cell_type": "code",
   "execution_count": 23,
   "id": "c0d6d8af",
   "metadata": {},
   "outputs": [
    {
     "name": "stdout",
     "output_type": "stream",
     "text": [
      "Enter the number1234\n",
      "Subtraction of  24 - 10 of the 1234 is : \n",
      "14\n"
     ]
    }
   ],
   "source": [
    "#subtrtact the product and the sum of Digit of an integer\n",
    "num = int (input(\"Enter the number\"))\n",
    "sum , product = 0 , 1\n",
    "temp = num \n",
    "\n",
    "# print(temp/10) basic div \n",
    "# print(temp//10)   this means floor division \n",
    "\n",
    "while temp > 0:\n",
    "    sum += int(temp%10)\n",
    "    product *= int(temp%10)\n",
    "    temp = temp//10\n",
    "    \n",
    "print(f\"Subtraction of  {product} - {sum} of the {num} is : \")   \n",
    "print(product-sum)"
   ]
  },
  {
   "cell_type": "code",
   "execution_count": 30,
   "id": "20857b64",
   "metadata": {},
   "outputs": [
    {
     "name": "stdout",
     "output_type": "stream",
     "text": [
      "Enter the number90\n",
      "1\n",
      "2\n",
      "3\n",
      "5\n",
      "6\n",
      "9\n",
      "10\n",
      "15\n",
      "18\n",
      "30\n",
      "45\n",
      "90\n"
     ]
    }
   ],
   "source": [
    "#Input a number and print all the factors of that number (use loops).\n",
    "num =  int(input(\"Enter the number\"))\n",
    "for i in range(1,101):\n",
    "    if (num%i == 0):\n",
    "        print(i)\n",
    "        "
   ]
  },
  {
   "cell_type": "code",
   "execution_count": 31,
   "id": "41b00d1c",
   "metadata": {},
   "outputs": [
    {
     "name": "stdout",
     "output_type": "stream",
     "text": [
      "Enter the number5\n",
      "Enter the number4\n",
      "Enter the number6\n",
      "Enter the number0\n",
      "15\n"
     ]
    }
   ],
   "source": [
    "# Take integer inputs till the user enters 0 and print the sum of all numbers\n",
    "num = int(input(\"Enter the number\"))\n",
    "sum = 0\n",
    "while num != 0 :\n",
    "    sum += num\n",
    "    if num != 0 :\n",
    "        num = int(input(\"Enter the number\"))\n",
    "print(sum)          "
   ]
  },
  {
   "cell_type": "code",
   "execution_count": 32,
   "id": "2b37fb22",
   "metadata": {},
   "outputs": [
    {
     "name": "stdout",
     "output_type": "stream",
     "text": [
      "Enter the number 12\n",
      "Enter the number34\n",
      "Enter the number56\n",
      "Enter the number2\n",
      "Enter the number0\n",
      "56\n"
     ]
    }
   ],
   "source": [
    "#Take integer inputs till the user enters 0 and print the largest number from all\n",
    "num = int(input(\"Enter the number \"))\n",
    "max = 0\n",
    "while num != 0:\n",
    "    if num > max :\n",
    "        max = num\n",
    "    if num != 0:\n",
    "        num = int(input(\"Enter the number\"))        \n",
    "print(max)        "
   ]
  },
  {
   "cell_type": "code",
   "execution_count": 35,
   "id": "868ae325",
   "metadata": {},
   "outputs": [
    {
     "name": "stdout",
     "output_type": "stream",
     "text": [
      "Enter the number12\n",
      "479001600\n"
     ]
    }
   ],
   "source": [
    "# Factorial Program\n",
    "n = int(input(\"Enter the number\"))\n",
    "def fact(n):\n",
    "    if n == 0:\n",
    "        return 1\n",
    "    return n * fact(n-1)\n",
    "print(fact(n))"
   ]
  },
  {
   "cell_type": "code",
   "execution_count": 38,
   "id": "8b750f53",
   "metadata": {},
   "outputs": [
    {
     "name": "stdout",
     "output_type": "stream",
     "text": [
      "Enter the number10\n",
      "5.5\n"
     ]
    }
   ],
   "source": [
    "#Calculate Average Of N Numbers\n",
    "n = int(input(\"Enter the number\"))\n",
    "sum = 0\n",
    "for i in range(1,n+1):\n",
    "    sum += i\n",
    "avg = sum/n\n",
    "print(avg)"
   ]
  },
  {
   "cell_type": "code",
   "execution_count": 40,
   "id": "56f9ef00",
   "metadata": {},
   "outputs": [
    {
     "name": "stdout",
     "output_type": "stream",
     "text": [
      "Enter the marks90\n",
      "Enter the marks80\n",
      "Enter the marks70\n",
      "Enter the marks80\n",
      "Enter the marks90\n",
      "Enter the marks0\n",
      "8.2\n"
     ]
    }
   ],
   "source": [
    "#Calculate CGPA Java Program\n",
    "marks = int(input(\"Enter the marks\"))\n",
    "sum = 0\n",
    "count = 0\n",
    "while marks != 0:\n",
    "    sum += marks//10\n",
    "    if marks != 0:\n",
    "        marks = int(input(\"Enter the marks\"))\n",
    "        count+= 1\n",
    "cgpa = sum / count       # cgpa = (sum of marks / 10 ) / number of observation marks\n",
    "print(cgpa)"
   ]
  },
  {
   "cell_type": "code",
   "execution_count": 41,
   "id": "6b35587a",
   "metadata": {},
   "outputs": [
    {
     "name": "stdout",
     "output_type": "stream",
     "text": [
      "15\n"
     ]
    }
   ],
   "source": [
    "#Sum Of N Numbers\n",
    "def sum(n):\n",
    "    if n == 0:\n",
    "        return n \n",
    "    return n + sum(n-1)\n",
    "print(sum(5))"
   ]
  },
  {
   "cell_type": "code",
   "execution_count": null,
   "id": "ef15202a",
   "metadata": {},
   "outputs": [],
   "source": []
  }
 ],
 "metadata": {
  "kernelspec": {
   "display_name": "Python 3 (ipykernel)",
   "language": "python",
   "name": "python3"
  },
  "language_info": {
   "codemirror_mode": {
    "name": "ipython",
    "version": 3
   },
   "file_extension": ".py",
   "mimetype": "text/x-python",
   "name": "python",
   "nbconvert_exporter": "python",
   "pygments_lexer": "ipython3",
   "version": "3.11.5"
  }
 },
 "nbformat": 4,
 "nbformat_minor": 5
}
