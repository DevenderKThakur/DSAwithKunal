{
 "cells": [
  {
   "cell_type": "code",
   "execution_count": 2,
   "id": "9aef849e",
   "metadata": {},
   "outputs": [
    {
     "name": "stdout",
     "output_type": "stream",
     "text": [
      "Enter the year2024\n",
      "Leap Year\n"
     ]
    }
   ],
   "source": [
    "#Input a year and find whether it is a leap year or not \n",
    "year = int(input(\"Enter the year\"))\n",
    "if year % 4 == 0 :\n",
    "    print(\"Leap Year\")\n",
    "else:\n",
    "    print(\"Not a leap year\")"
   ]
  },
  {
   "cell_type": "code",
   "execution_count": 3,
   "id": "04701afc",
   "metadata": {},
   "outputs": [
    {
     "name": "stdout",
     "output_type": "stream",
     "text": [
      "Enter the number 12\n",
      "Enter the number 34\n",
      "46\n"
     ]
    }
   ],
   "source": [
    "# Take two numbers and print the sum of both.\n",
    "num1 = int(input (\"Enter the number \"))\n",
    "num2 = int(input (\"Enter the number \"))\n",
    "print(num1 + num2)"
   ]
  },
  {
   "cell_type": "code",
   "execution_count": 7,
   "id": "365b215d",
   "metadata": {},
   "outputs": [
    {
     "name": "stdout",
     "output_type": "stream",
     "text": [
      "Enter the number2\n",
      "2 * 1 =  2\n",
      "2 * 2 =  4\n",
      "2 * 3 =  6\n",
      "2 * 4 =  8\n",
      "2 * 5 =  10\n",
      "2 * 6 =  12\n",
      "2 * 7 =  14\n",
      "2 * 8 =  16\n",
      "2 * 9 =  18\n",
      "2 * 10 =  20\n"
     ]
    }
   ],
   "source": [
    "# Take a number as input and print the multiplication table for it\n",
    "number = int(input (\"Enter the number\"))\n",
    "# range(start,end,step)  end = end-1\n",
    "for i in range(1,11):\n",
    "    print(f\"{number} * {i} = \",number*i)"
   ]
  },
  {
   "cell_type": "code",
   "execution_count": 12,
   "id": "352758f8",
   "metadata": {},
   "outputs": [
    {
     "name": "stdout",
     "output_type": "stream",
     "text": [
      "Enter the number4\n",
      "Enter the number7\n",
      "Enter the number8\n",
      "Enter the numberx\n",
      "19\n"
     ]
    }
   ],
   "source": [
    "#Keep taking numbers as inputs till the user enters ‘x’, after that print sum of all\n",
    "num = int(input(\"Enter the number : \"))\n",
    "sum = 0\n",
    "while num != 'x':\n",
    "    sum += int(num)\n",
    "    num = input(\"Enter the number : \")\n",
    "    \n",
    "print(sum)    \n",
    "               "
   ]
  },
  {
   "cell_type": "code",
   "execution_count": null,
   "id": "636161f0",
   "metadata": {},
   "outputs": [],
   "source": []
  }
 ],
 "metadata": {
  "kernelspec": {
   "display_name": "Python 3 (ipykernel)",
   "language": "python",
   "name": "python3"
  },
  "language_info": {
   "codemirror_mode": {
    "name": "ipython",
    "version": 3
   },
   "file_extension": ".py",
   "mimetype": "text/x-python",
   "name": "python",
   "nbconvert_exporter": "python",
   "pygments_lexer": "ipython3",
   "version": "3.11.5"
  }
 },
 "nbformat": 4,
 "nbformat_minor": 5
}
