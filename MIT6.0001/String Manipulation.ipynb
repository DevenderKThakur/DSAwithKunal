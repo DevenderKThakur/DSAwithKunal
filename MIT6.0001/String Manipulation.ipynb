{
 "cells": [
  {
   "cell_type": "code",
   "execution_count": 4,
   "id": "cae54087",
   "metadata": {},
   "outputs": [
    {
     "data": {
      "text/plain": [
       "'c'"
      ]
     },
     "execution_count": 4,
     "metadata": {},
     "output_type": "execute_result"
    }
   ],
   "source": [
    "# strings are sequence of character \n",
    "s= \"abc\"\n",
    "s[-1] # in python string can have -ve index\n",
    "# string is immutable "
   ]
  },
  {
   "cell_type": "code",
   "execution_count": 13,
   "id": "fc69f90a",
   "metadata": {},
   "outputs": [
    {
     "data": {
      "text/plain": [
       "8"
      ]
     },
     "execution_count": 13,
     "metadata": {},
     "output_type": "execute_result"
    }
   ],
   "source": [
    "text = \"Devender\"\n",
    "# x = slice(3)\n",
    "# text[slice(start,end,step)] where end = end - 1\n",
    "text[slice(2,5)]\n",
    "len(text)"
   ]
  },
  {
   "cell_type": "code",
   "execution_count": 16,
   "id": "065c10ef",
   "metadata": {},
   "outputs": [
    {
     "name": "stdout",
     "output_type": "stream",
     "text": [
      "There is an i or e\n"
     ]
    }
   ],
   "source": [
    "text = \"abcdefgh\"\n",
    "for char in text:\n",
    "    if char == 'i' or char == 'e':\n",
    "        print(\"There is an i or e\")"
   ]
  },
  {
   "cell_type": "code",
   "execution_count": 24,
   "id": "6539dbe5",
   "metadata": {},
   "outputs": [
    {
     "name": "stdout",
     "output_type": "stream",
     "text": [
      "I will cheer you ! Enter a wordDEVENDER\n",
      "Enthusiasm level from 1 - 10 :10\n",
      "I want !DforD\n",
      "I want !EforE\n",
      "I want !VforV\n",
      "I want !EforE\n",
      "I want !NforN\n",
      "I want !DforD\n",
      "I want !EforE\n",
      "I want !RforR\n",
      "So what do we want !!!\n",
      "DEVENDER! ! ! !\n",
      "DEVENDER! ! ! !\n",
      "DEVENDER! ! ! !\n",
      "DEVENDER! ! ! !\n",
      "DEVENDER! ! ! !\n",
      "DEVENDER! ! ! !\n",
      "DEVENDER! ! ! !\n",
      "DEVENDER! ! ! !\n",
      "DEVENDER! ! ! !\n",
      "DEVENDER! ! ! !\n"
     ]
    }
   ],
   "source": [
    "# create a cheerleader robot \n",
    "an_letter = \"ABCDEFGHIJKLMNOPQRSTUVWXYZ\"\n",
    "word = input (\"I will cheer you ! Enter a word : \")\n",
    "times = int(input(\"Enthusiasm level from 1 - 10 : \"))\n",
    "\n",
    "i  =  0\n",
    "while i < len(word):\n",
    "    char = word[i]\n",
    "    if char in an_letter:\n",
    "        print(\"I want !\"+ char +\"for\"+ char)\n",
    "    else:\n",
    "        print(\"I want !\"+ char +\"for\"+ char)\n",
    "    i +=1\n",
    "print(\"So what do we want !!!\")\n",
    "for i in range(times):\n",
    "    print(word + \"! ! ! !\")"
   ]
  },
  {
   "cell_type": "code",
   "execution_count": 39,
   "id": "ed6eff4b",
   "metadata": {},
   "outputs": [
    {
     "name": "stdout",
     "output_type": "stream",
     "text": [
      "Enter the number 8\n",
      "3.0\n"
     ]
    }
   ],
   "source": [
    "# Bisection method or Binary Search Leetcode question 69 complexity of O(logn)\n",
    "x = int(input(\"Enter the number\"))\n",
    "start = 0\n",
    "end = x \n",
    "flag = 0\n",
    "if x < 2 :\n",
    "    print(x)\n",
    "while start <= end :\n",
    "    mid = start + (end - start)/2\n",
    "    if float(mid**2) == x:\n",
    "        flag = 1\n",
    "        break;\n",
    "    elif float(mid**2) < x :\n",
    "        start = mid + 1\n",
    "    else :\n",
    "        end = mid - 1\n",
    "        \n",
    "if flag == 0:\n",
    "    print(end)\n",
    "else:\n",
    "    print(mid)"
   ]
  }
 ],
 "metadata": {
  "kernelspec": {
   "display_name": "Python 3 (ipykernel)",
   "language": "python",
   "name": "python3"
  },
  "language_info": {
   "codemirror_mode": {
    "name": "ipython",
    "version": 3
   },
   "file_extension": ".py",
   "mimetype": "text/x-python",
   "name": "python",
   "nbconvert_exporter": "python",
   "pygments_lexer": "ipython3",
   "version": "3.11.5"
  }
 },
 "nbformat": 4,
 "nbformat_minor": 5
}
