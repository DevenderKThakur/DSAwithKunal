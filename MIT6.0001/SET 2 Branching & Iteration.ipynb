{
 "cells": [
  {
   "cell_type": "code",
   "execution_count": 5,
   "id": "11722de7",
   "metadata": {},
   "outputs": [
    {
     "name": "stdout",
     "output_type": "stream",
     "text": [
      "1\n",
      "MY fav num is 1 . x = 1\n",
      "My fav num is 1x=1\n"
     ]
    }
   ],
   "source": [
    "# concatention\n",
    "x = 1 \n",
    "print(x)\n",
    "x_str = str(x)\n",
    "print(\"MY fav num is\",x, \".\", \"x =\",x)\n",
    "print(\"My fav num is\",x_str  +\"x=\"+ x_str)"
   ]
  },
  {
   "cell_type": "code",
   "execution_count": 7,
   "id": "ba4b6a1a",
   "metadata": {},
   "outputs": [
    {
     "name": "stdout",
     "output_type": "stream",
     "text": [
      "Type Anything...hi\n",
      "hihihihihi\n",
      "Type anything....5\n",
      "25\n"
     ]
    }
   ],
   "source": [
    "# input function everything in input is string \n",
    "text = input(\"Type Anything...\")\n",
    "print(5*text) # prints the value 5 times \n",
    "num = int(input(\"Type anything....\"))\n",
    "print(5*num)"
   ]
  },
  {
   "cell_type": "code",
   "execution_count": 13,
   "id": "dfc6ffe6",
   "metadata": {},
   "outputs": [
    {
     "name": "stdout",
     "output_type": "stream",
     "text": [
      "Enter the number x :12\n",
      "Enter the number y :3\n",
      "y is the smallest\n",
      "thanks\n"
     ]
    }
   ],
   "source": [
    "x = float (input(\"Enter the number x :\"))\n",
    "y = float (input(\"Enter the number y :\"))\n",
    "if x == y:\n",
    "    print(\"x and y are equal\")\n",
    "    if y != 0:\n",
    "        print(\"therfore x / y is \",x/y)\n",
    "elif x < y :\n",
    "    print(\"x is smallest\")\n",
    "else :    \n",
    "    print(\"y is the smallest\")\n",
    "\n",
    "print(\"Thanks!\")    "
   ]
  },
  {
   "cell_type": "code",
   "execution_count": 19,
   "id": "1bb710ec",
   "metadata": {},
   "outputs": [
    {
     "name": "stdout",
     "output_type": "stream",
     "text": [
      "..Enter r to go right and l to go left..r\n",
      "..you are still in the forest of lost woods..\n",
      "..Enter r to go right and l to go left..l\n",
      "..You are out of the lost forest of woods..\n"
     ]
    }
   ],
   "source": [
    "# game \n",
    "n= input(\"..Enter r to go right and l to go left..\")\n",
    "while n == 'r' or n == 'l':\n",
    "    if n == 'r':\n",
    "        print(\"..you are still in the forest of lost woods..\")\n",
    "        n = input(\"..Enter r to go right and l to go left..\")\n",
    "    else:\n",
    "        break;\n",
    "print(\"..You are out of the lost forest of woods..\")"
   ]
  },
  {
   "cell_type": "code",
   "execution_count": 25,
   "id": "1b37c0ad",
   "metadata": {},
   "outputs": [
    {
     "name": "stdout",
     "output_type": "stream",
     "text": [
      "Enter your annual salary 120000\n",
      "Enter the cost of your Dream House1000000\n",
      "Enter the percent of your salary to save , as a decimal:0.10\n",
      "Number of months : 183\n"
     ]
    }
   ],
   "source": [
    "#House Hunting\n",
    "annual_salary = float(input (\"Enter your annual salary\"))\n",
    "total_cost =  float(input(\"Enter the cost of your Dream House\"))\n",
    "portion_saved = float(input(\"Enter the percent of your salary to save , as a decimal:\"))\n",
    "\n",
    "# initalize the variable that is not given by user\n",
    "monthly_salary = annual_salary / 12 \n",
    "current_saving = 0\n",
    "r = 0.04\n",
    "portion_down_payment = 0.25\n",
    "month = 0\n",
    "\n",
    "# totoal amount to be paid by the user \n",
    "total_down_payment = total_cost * portion_down_payment \n",
    "\n",
    "# total amount that is being saved by the user monthly \n",
    "monthly_savings = monthly_salary * portion_saved  \n",
    "\n",
    "while current_saving < total_down_payment:\n",
    "    return_of_investment = ( current_saving * r )/12\n",
    "    current_saving += monthly_savings + return_of_investment\n",
    "    month +=1\n",
    "    \n",
    "print(\"Number of months :\", month)    "
   ]
  },
  {
   "cell_type": "code",
   "execution_count": null,
   "id": "e6b5c9ff",
   "metadata": {},
   "outputs": [],
   "source": []
  }
 ],
 "metadata": {
  "kernelspec": {
   "display_name": "Python 3 (ipykernel)",
   "language": "python",
   "name": "python3"
  },
  "language_info": {
   "codemirror_mode": {
    "name": "ipython",
    "version": 3
   },
   "file_extension": ".py",
   "mimetype": "text/x-python",
   "name": "python",
   "nbconvert_exporter": "python",
   "pygments_lexer": "ipython3",
   "version": "3.11.5"
  }
 },
 "nbformat": 4,
 "nbformat_minor": 5
}
